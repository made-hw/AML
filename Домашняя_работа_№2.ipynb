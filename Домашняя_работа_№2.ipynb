{
  "nbformat": 4,
  "nbformat_minor": 0,
  "metadata": {
    "kernelspec": {
      "display_name": "Python 3",
      "language": "python",
      "name": "python3"
    },
    "language_info": {
      "codemirror_mode": {
        "name": "ipython",
        "version": 3
      },
      "file_extension": ".py",
      "mimetype": "text/x-python",
      "name": "python",
      "nbconvert_exporter": "python",
      "pygments_lexer": "ipython3",
      "version": "3.7.4"
    },
    "colab": {
      "name": "Домашняя работа №2.ipynb",
      "provenance": []
    }
  },
  "cells": [
    {
      "cell_type": "code",
      "metadata": {
        "id": "w3d81ZDec-06"
      },
      "source": [
        "import json, pickle\n",
        "from collections import Counter\n",
        "import warnings\n",
        "\n",
        "import pandas as pd\n",
        "import numpy as np\n",
        "from matplotlib import pyplot as plt\n",
        "from sklearn.preprocessing import OneHotEncoder\n",
        "from sklearn.linear_model import LogisticRegression\n",
        "from sklearn.base import clone\n",
        "from scipy.sparse import vstack, hstack\n",
        "from scipy.stats.stats import spearmanr\n",
        "from scipy.stats.stats import kendalltau\n",
        "from tqdm import tqdm\n",
        "\n",
        "warnings.filterwarnings(\"ignore\")"
      ],
      "execution_count": null,
      "outputs": []
    },
    {
      "cell_type": "markdown",
      "metadata": {
        "id": "YmnxeBEsc-1T"
      },
      "source": [
        "## 1 task"
      ]
    },
    {
      "cell_type": "markdown",
      "metadata": {
        "id": "nyT3gfVzc-1Z"
      },
      "source": [
        "        Прочитайте и проанализируйте данные, выберите турниры, в которых есть данные о составах команд и повопросных результатах (поле mask в results.pkl)."
      ]
    },
    {
      "cell_type": "code",
      "metadata": {
        "id": "2IPJ4Cjac-1h"
      },
      "source": [
        "tournaments = pickle.load(open('chgk/tournaments.pkl', 'rb'))\n",
        "results = pickle.load(open('chgk/results.pkl', 'rb'))\n",
        "players = pickle.load(open('chgk/players.pkl', 'rb'))"
      ],
      "execution_count": null,
      "outputs": []
    },
    {
      "cell_type": "code",
      "metadata": {
        "id": "dzY7BdMac-1q"
      },
      "source": [
        "df_players = pd.DataFrame(players.values()).set_index(\"id\")\n",
        "df_tournaments = pd.DataFrame(tournaments.values()).set_index(\"id\")\n",
        "\n",
        "df_tournaments[\"year\"] = df_tournaments[\"dateStart\"].apply(lambda x: int(x[:4]))\n",
        "df_train_tournaments = df_tournaments[df_tournaments[\"year\"] == 2019]\n",
        "df_test_tournaments = df_tournaments[df_tournaments[\"year\"] == 2020]"
      ],
      "execution_count": null,
      "outputs": []
    },
    {
      "cell_type": "markdown",
      "metadata": {
        "id": "dQR2Ziqec-19"
      },
      "source": [
        "## 2 task"
      ]
    },
    {
      "cell_type": "markdown",
      "metadata": {
        "id": "TxPCJhLdc-2C"
      },
      "source": [
        "        Постройте baseline-модель на основе линейной или логистической регрессии, которая будет обучать рейтинг-лист игроков.\n"
      ]
    }
  ]
}