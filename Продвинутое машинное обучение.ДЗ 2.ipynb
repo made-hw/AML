{
 "cells": [
  {
   "cell_type": "code",
   "execution_count": 1,
   "id": "66a14ff1-4226-44a1-a036-ae857a9cf8c1",
   "metadata": {},
   "outputs": [],
   "source": [
    "import json, pickle\n",
    "from collections import Counter\n",
    "import warnings\n",
    "\n",
    "import pandas as pd\n",
    "import numpy as np\n",
    "import seaborn as sns\n",
    "from matplotlib import pyplot as plt\n",
    "from sklearn.preprocessing import OneHotEncoder\n",
    "from sklearn.linear_model import LogisticRegression\n",
    "from sklearn.base import clone\n",
    "from scipy.sparse import vstack, hstack\n",
    "from scipy.stats.stats import spearmanr\n",
    "from scipy.stats.stats import kendalltau\n",
    "from tqdm import tqdm\n",
    "\n",
    "warnings.filterwarnings(\"ignore\")"
   ]
  },
  {
   "cell_type": "markdown",
   "id": "513e0055-ed61-4166-bb85-c363c01bec1d",
   "metadata": {},
   "source": [
    "# Данные"
   ]
  },
  {
   "cell_type": "code",
   "execution_count": 2,
   "id": "6e83c01c-e01b-4d2c-b468-0aff465db730",
   "metadata": {},
   "outputs": [],
   "source": [
    "players = pickle.load(open('chgk/players.pkl', 'rb'))\n",
    "tournaments = pickle.load(open('chgk/tournaments.pkl', 'rb'))"
   ]
  },
  {
   "cell_type": "code",
   "execution_count": 3,
   "id": "9b2301df-937b-4983-b802-80868f2c8367",
   "metadata": {},
   "outputs": [
    {
     "data": {
      "text/html": [
       "<div>\n",
       "<style scoped>\n",
       "    .dataframe tbody tr th:only-of-type {\n",
       "        vertical-align: middle;\n",
       "    }\n",
       "\n",
       "    .dataframe tbody tr th {\n",
       "        vertical-align: top;\n",
       "    }\n",
       "\n",
       "    .dataframe thead th {\n",
       "        text-align: right;\n",
       "    }\n",
       "</style>\n",
       "<table border=\"1\" class=\"dataframe\">\n",
       "  <thead>\n",
       "    <tr style=\"text-align: right;\">\n",
       "      <th></th>\n",
       "      <th>name</th>\n",
       "      <th>patronymic</th>\n",
       "      <th>surname</th>\n",
       "    </tr>\n",
       "    <tr>\n",
       "      <th>id</th>\n",
       "      <th></th>\n",
       "      <th></th>\n",
       "      <th></th>\n",
       "    </tr>\n",
       "  </thead>\n",
       "  <tbody>\n",
       "    <tr>\n",
       "      <th>1</th>\n",
       "      <td>Алексей</td>\n",
       "      <td>None</td>\n",
       "      <td>Абабилов</td>\n",
       "    </tr>\n",
       "    <tr>\n",
       "      <th>10</th>\n",
       "      <td>Игорь</td>\n",
       "      <td></td>\n",
       "      <td>Абалов</td>\n",
       "    </tr>\n",
       "    <tr>\n",
       "      <th>11</th>\n",
       "      <td>Наталья</td>\n",
       "      <td>Юрьевна</td>\n",
       "      <td>Абалымова</td>\n",
       "    </tr>\n",
       "    <tr>\n",
       "      <th>12</th>\n",
       "      <td>Артур</td>\n",
       "      <td>Евгеньевич</td>\n",
       "      <td>Абальян</td>\n",
       "    </tr>\n",
       "    <tr>\n",
       "      <th>13</th>\n",
       "      <td>Эрик</td>\n",
       "      <td>Евгеньевич</td>\n",
       "      <td>Абальян</td>\n",
       "    </tr>\n",
       "  </tbody>\n",
       "</table>\n",
       "</div>"
      ],
      "text/plain": [
       "       name  patronymic    surname\n",
       "id                                \n",
       "1   Алексей        None   Абабилов\n",
       "10    Игорь                 Абалов\n",
       "11  Наталья     Юрьевна  Абалымова\n",
       "12    Артур  Евгеньевич    Абальян\n",
       "13     Эрик  Евгеньевич    Абальян"
      ]
     },
     "execution_count": 3,
     "metadata": {},
     "output_type": "execute_result"
    }
   ],
   "source": [
    "players = pd.DataFrame(players.values()).set_index(\"id\")\n",
    "players.head()"
   ]
  },
  {
   "cell_type": "code",
   "execution_count": 4,
   "id": "f12c8576-91d1-461d-8aab-01800811b6d4",
   "metadata": {},
   "outputs": [
    {
     "data": {
      "text/html": [
       "<div>\n",
       "<style scoped>\n",
       "    .dataframe tbody tr th:only-of-type {\n",
       "        vertical-align: middle;\n",
       "    }\n",
       "\n",
       "    .dataframe tbody tr th {\n",
       "        vertical-align: top;\n",
       "    }\n",
       "\n",
       "    .dataframe thead th {\n",
       "        text-align: right;\n",
       "    }\n",
       "</style>\n",
       "<table border=\"1\" class=\"dataframe\">\n",
       "  <thead>\n",
       "    <tr style=\"text-align: right;\">\n",
       "      <th></th>\n",
       "      <th>name</th>\n",
       "      <th>dateStart</th>\n",
       "      <th>dateEnd</th>\n",
       "      <th>type</th>\n",
       "      <th>season</th>\n",
       "      <th>orgcommittee</th>\n",
       "      <th>synchData</th>\n",
       "      <th>questionQty</th>\n",
       "    </tr>\n",
       "    <tr>\n",
       "      <th>id</th>\n",
       "      <th></th>\n",
       "      <th></th>\n",
       "      <th></th>\n",
       "      <th></th>\n",
       "      <th></th>\n",
       "      <th></th>\n",
       "      <th></th>\n",
       "      <th></th>\n",
       "    </tr>\n",
       "  </thead>\n",
       "  <tbody>\n",
       "    <tr>\n",
       "      <th>1</th>\n",
       "      <td>Чемпионат Южного Кавказа</td>\n",
       "      <td>2003-07-25T00:00:00+04:00</td>\n",
       "      <td>2003-07-27T00:00:00+04:00</td>\n",
       "      <td>{'id': 2, 'name': 'Обычный'}</td>\n",
       "      <td>/seasons/1</td>\n",
       "      <td>[]</td>\n",
       "      <td>None</td>\n",
       "      <td>None</td>\n",
       "    </tr>\n",
       "    <tr>\n",
       "      <th>2</th>\n",
       "      <td>Летние зори</td>\n",
       "      <td>2003-08-09T00:00:00+04:00</td>\n",
       "      <td>2003-08-09T00:00:00+04:00</td>\n",
       "      <td>{'id': 2, 'name': 'Обычный'}</td>\n",
       "      <td>/seasons/1</td>\n",
       "      <td>[]</td>\n",
       "      <td>None</td>\n",
       "      <td>None</td>\n",
       "    </tr>\n",
       "    <tr>\n",
       "      <th>3</th>\n",
       "      <td>Турнир в Ижевске</td>\n",
       "      <td>2003-11-22T00:00:00+03:00</td>\n",
       "      <td>2003-11-24T00:00:00+03:00</td>\n",
       "      <td>{'id': 2, 'name': 'Обычный'}</td>\n",
       "      <td>/seasons/2</td>\n",
       "      <td>[]</td>\n",
       "      <td>None</td>\n",
       "      <td>None</td>\n",
       "    </tr>\n",
       "    <tr>\n",
       "      <th>4</th>\n",
       "      <td>Чемпионат Украины. Переходной этап</td>\n",
       "      <td>2003-10-11T00:00:00+04:00</td>\n",
       "      <td>2003-10-12T00:00:00+04:00</td>\n",
       "      <td>{'id': 2, 'name': 'Обычный'}</td>\n",
       "      <td>/seasons/2</td>\n",
       "      <td>[]</td>\n",
       "      <td>None</td>\n",
       "      <td>None</td>\n",
       "    </tr>\n",
       "    <tr>\n",
       "      <th>5</th>\n",
       "      <td>Бостонское чаепитие</td>\n",
       "      <td>2003-10-10T00:00:00+04:00</td>\n",
       "      <td>2003-10-13T00:00:00+04:00</td>\n",
       "      <td>{'id': 2, 'name': 'Обычный'}</td>\n",
       "      <td>/seasons/2</td>\n",
       "      <td>[]</td>\n",
       "      <td>None</td>\n",
       "      <td>None</td>\n",
       "    </tr>\n",
       "  </tbody>\n",
       "</table>\n",
       "</div>"
      ],
      "text/plain": [
       "                                  name                  dateStart  \\\n",
       "id                                                                  \n",
       "1             Чемпионат Южного Кавказа  2003-07-25T00:00:00+04:00   \n",
       "2                          Летние зори  2003-08-09T00:00:00+04:00   \n",
       "3                     Турнир в Ижевске  2003-11-22T00:00:00+03:00   \n",
       "4   Чемпионат Украины. Переходной этап  2003-10-11T00:00:00+04:00   \n",
       "5                  Бостонское чаепитие  2003-10-10T00:00:00+04:00   \n",
       "\n",
       "                      dateEnd                          type      season  \\\n",
       "id                                                                        \n",
       "1   2003-07-27T00:00:00+04:00  {'id': 2, 'name': 'Обычный'}  /seasons/1   \n",
       "2   2003-08-09T00:00:00+04:00  {'id': 2, 'name': 'Обычный'}  /seasons/1   \n",
       "3   2003-11-24T00:00:00+03:00  {'id': 2, 'name': 'Обычный'}  /seasons/2   \n",
       "4   2003-10-12T00:00:00+04:00  {'id': 2, 'name': 'Обычный'}  /seasons/2   \n",
       "5   2003-10-13T00:00:00+04:00  {'id': 2, 'name': 'Обычный'}  /seasons/2   \n",
       "\n",
       "   orgcommittee synchData questionQty  \n",
       "id                                     \n",
       "1            []      None        None  \n",
       "2            []      None        None  \n",
       "3            []      None        None  \n",
       "4            []      None        None  \n",
       "5            []      None        None  "
      ]
     },
     "execution_count": 4,
     "metadata": {},
     "output_type": "execute_result"
    }
   ],
   "source": [
    "tournaments = pd.DataFrame(tournaments.values()).set_index(\"id\")\n",
    "tournaments.head()"
   ]
  },
  {
   "cell_type": "code",
   "execution_count": 9,
   "id": "cc1c12e9-2fc3-4c47-8f18-e6df27ecc7d0",
   "metadata": {},
   "outputs": [
    {
     "name": "stdout",
     "output_type": "stream",
     "text": [
      "(1109, 8)\n",
      "(689, 8) (416, 8)\n"
     ]
    }
   ],
   "source": [
    "tournaments['dateStart'] = pd.to_datetime(tournaments.dateStart, utc=True)\n",
    "tournaments = tournaments[tournaments.dateStart.dt.year >= 2019]\n",
    "print(tournaments.shape)\n",
    "train_tournaments = tournaments[tournaments.dateStart.dt.year == 2019]\n",
    "test_tournaments = tournaments[tournaments.dateStart.dt.year == 2020]\n",
    "print(train_tournaments.shape, test_tournaments.shape)"
   ]
  },
  {
   "cell_type": "code",
   "execution_count": 11,
   "id": "93db20b7-1016-4391-912a-22c3a387b879",
   "metadata": {},
   "outputs": [],
   "source": [
    "results = pickle.load(open('chgk/results.pkl', 'rb'))"
   ]
  },
  {
   "cell_type": "code",
   "execution_count": 25,
   "id": "a168427a-183f-4fea-869c-9662420f79ca",
   "metadata": {},
   "outputs": [],
   "source": [
    "def get_players_in_tournament(tournament_id):\n",
    "    l = [[member['player']['id'] for member in team['teamMembers']] for team in results[tournament_id]]\n",
    "    return [item for sublist in l for item in sublist]"
   ]
  }
 ],
 "metadata": {
  "kernelspec": {
   "display_name": "Python 3",
   "language": "python",
   "name": "python3"
  },
  "language_info": {
   "codemirror_mode": {
    "name": "ipython",
    "version": 3
   },
   "file_extension": ".py",
   "mimetype": "text/x-python",
   "name": "python",
   "nbconvert_exporter": "python",
   "pygments_lexer": "ipython3",
   "version": "3.7.10"
  },
  "widgets": {
   "application/vnd.jupyter.widget-state+json": {
    "state": {},
    "version_major": 2,
    "version_minor": 0
   }
  }
 },
 "nbformat": 4,
 "nbformat_minor": 5
}
