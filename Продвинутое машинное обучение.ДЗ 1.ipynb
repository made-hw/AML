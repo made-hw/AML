{
  "nbformat": 4,
  "nbformat_minor": 0,
  "metadata": {
    "colab": {
      "name": "Untitled21.ipynb",
      "provenance": []
    },
    "kernelspec": {
      "name": "python3",
      "display_name": "Python 3"
    }
  },
  "cells": [
    {
      "cell_type": "markdown",
      "metadata": {
        "id": "z_VxcawRPoi3"
      },
      "source": [
        "#Продвинутое машинное обучение: ДЗ 1"
      ]
    },
    {
      "cell_type": "markdown",
      "metadata": {
        "id": "B0WsJ0qoP9l-"
      },
      "source": [
        "## Часть I: О теореме Байеса"
      ]
    },
    {
      "cell_type": "markdown",
      "metadata": {
        "id": "IAswNfTKQEhQ"
      },
      "source": [
        "##Часть II: О линейной регрессии"
      ]
    },
    {
      "cell_type": "code",
      "metadata": {
        "id": "V1a4mYXNPpvP"
      },
      "source": [
        ""
      ],
      "execution_count": null,
      "outputs": []
    }
  ]
}